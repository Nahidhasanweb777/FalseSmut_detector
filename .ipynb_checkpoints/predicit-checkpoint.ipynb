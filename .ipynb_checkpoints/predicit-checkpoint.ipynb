{
 "cells": [
  {
   "cell_type": "code",
   "execution_count": 6,
   "id": "5304419f",
   "metadata": {},
   "outputs": [
    {
     "ename": "NameError",
     "evalue": "name 'image' is not defined",
     "output_type": "error",
     "traceback": [
      "\u001b[1;31m---------------------------------------------------------------------------\u001b[0m",
      "\u001b[1;31mNameError\u001b[0m                                 Traceback (most recent call last)",
      "\u001b[1;32m<ipython-input-6-eb30e84a7eb6>\u001b[0m in \u001b[0;36m<module>\u001b[1;34m\u001b[0m\n\u001b[0;32m     26\u001b[0m \u001b[1;31m#img_pred=image.load_img(\"F:\\work\\onlineAll\\online\\Healthy\\healthy (97).jpg\" ,target_size=(150,150))\u001b[0m\u001b[1;33m\u001b[0m\u001b[1;33m\u001b[0m\u001b[1;33m\u001b[0m\u001b[0m\n\u001b[0;32m     27\u001b[0m \u001b[1;31m#img_pred=image.load_img(\"F:\\work\\onlineAll\\online\\Disease\\disease (2).jpg\" ,target_size=(150,150))\u001b[0m\u001b[1;33m\u001b[0m\u001b[1;33m\u001b[0m\u001b[1;33m\u001b[0m\u001b[0m\n\u001b[1;32m---> 28\u001b[1;33m \u001b[0mimg_pred\u001b[0m\u001b[1;33m=\u001b[0m\u001b[0mimage\u001b[0m\u001b[1;33m.\u001b[0m\u001b[0mload_img\u001b[0m\u001b[1;33m(\u001b[0m\u001b[1;34m\"F:\\work\\onlineAll\\online\\Disease\\disease (37).jpg\"\u001b[0m \u001b[1;33m,\u001b[0m\u001b[0mtarget_size\u001b[0m\u001b[1;33m=\u001b[0m\u001b[1;33m(\u001b[0m\u001b[1;36m150\u001b[0m\u001b[1;33m,\u001b[0m\u001b[1;36m150\u001b[0m\u001b[1;33m)\u001b[0m\u001b[1;33m)\u001b[0m\u001b[1;33m\u001b[0m\u001b[1;33m\u001b[0m\u001b[0m\n\u001b[0m\u001b[0;32m     29\u001b[0m \u001b[1;31m#img_pred=image.load_img(\"F:\\work\\onlineAll\\online\\Disease\\disease (1).jpg\" ,target_size=(150,150)) #r\u001b[0m\u001b[1;33m\u001b[0m\u001b[1;33m\u001b[0m\u001b[1;33m\u001b[0m\u001b[0m\n\u001b[0;32m     30\u001b[0m \u001b[1;31m#img_pred=image.load_img(\"F:\\work\\onlineAll\\online\\Healthy\\healthy (41).jpg\" ,target_size=(150,150))\u001b[0m\u001b[1;33m\u001b[0m\u001b[1;33m\u001b[0m\u001b[1;33m\u001b[0m\u001b[0m\n",
      "\u001b[1;31mNameError\u001b[0m: name 'image' is not defined"
     ]
    }
   ],
   "source": [
    "\n",
    "import matplotlib.pyplot as plt\n",
    "import matplotlib.image as mpimg\n",
    "plt.style.use('classic')\n",
    "from keras.preprocessing.image import ImageDataGenerator\n",
    "from keras.models import Sequential\n",
    "from keras.layers import Conv2D, MaxPooling2D, BatchNormalization\n",
    "from keras.layers import Activation, Dropout, Flatten, Dense\n",
    "import os\n",
    "import cv2\n",
    "from PIL import Image\n",
    "import numpy as np\n",
    "from keras.models import load_model\n",
    "from sklearn.model_selection import train_test_split\n",
    "from sklearn import preprocessing\n",
    "import numpy as np\n",
    "from keras.preprocessing import image\n",
    "#load model\n",
    "#model = load_model(r\"C:\\Users\\oneda\\offline\\model\\offline.h5\")\n",
    "model = load_model(r\"C:\\Users\\oneda\\offline\\model\\online.h5\")\n",
    "\n",
    "#img_pred=image.load_img(\"F:\\work\\offlineAll\\offline\\disease\\Disease (131).jpg\" ,target_size=(150,150))\n",
    "#img_pred=image.load_img(\"F:\\work\\offlineAll\\offline\\disease\\Disease (1610).jpg\" ,target_size=(150,150))\n",
    "#img_pred=image.load_img(\"F:\\work\\offlineAll\\offline\\healthy\\Healthy (35).jpg\" ,target_size=(150,150))\n",
    "#img_pred=image.load_img(\"F:\\work\\ch\\Healthy (7).jpg\" ,target_size=(150,150))\n",
    "\n",
    "#img_pred=image.load_img(\"F:\\work\\onlineAll\\online\\Healthy\\healthy (1).jpg\" ,target_size=(150,150))\n",
    "#img_pred=image.load_img(\"F:\\work\\onlineAll\\online\\Healthy\\healthy (97).jpg\" ,target_size=(150,150))\n",
    "#img_pred=image.load_img(\"F:\\work\\onlineAll\\online\\Disease\\disease (2).jpg\" ,target_size=(150,150))\n",
    "img_pred=image.load_img(\"F:\\work\\onlineAll\\online\\Disease\\disease (37).jpg\" ,target_size=(150,150))\n",
    "#img_pred=image.load_img(\"F:\\work\\onlineAll\\online\\Disease\\disease (1).jpg\" ,target_size=(150,150)) #r\n",
    "#img_pred=image.load_img(\"F:\\work\\onlineAll\\online\\Healthy\\healthy (41).jpg\" ,target_size=(150,150))\n",
    "nnn=img_pred\n",
    "img_pred=image.img_to_array(img_pred)\n",
    "input_img = np.expand_dims(img_pred, axis=0) \n",
    "input_img = input_img/255\n",
    "new = model.predict(input_img)\n",
    "print(\"The prediction for this image is: \",new )\n",
    "\n",
    "imgplot = plt.imshow(nnn)\n",
    "plt.show()\n",
    "\n",
    "if new == [[1.]]:\n",
    "    {\n",
    "        print(\"This is Healthy \")\n",
    "       \n",
    "    }\n",
    "else:\n",
    "   \n",
    "        print(\"This is Disease  \")\n",
    "        \n",
    "   \n"
   ]
  },
  {
   "cell_type": "code",
   "execution_count": null,
   "id": "ae49ee2c",
   "metadata": {},
   "outputs": [],
   "source": []
  },
  {
   "cell_type": "code",
   "execution_count": null,
   "id": "10f892c6",
   "metadata": {
    "scrolled": true
   },
   "outputs": [],
   "source": []
  },
  {
   "cell_type": "code",
   "execution_count": null,
   "id": "2d7d0a03",
   "metadata": {},
   "outputs": [],
   "source": []
  },
  {
   "cell_type": "code",
   "execution_count": null,
   "id": "43a4c675",
   "metadata": {},
   "outputs": [],
   "source": []
  }
 ],
 "metadata": {
  "kernelspec": {
   "display_name": "Python 3",
   "language": "python",
   "name": "python3"
  },
  "language_info": {
   "codemirror_mode": {
    "name": "ipython",
    "version": 3
   },
   "file_extension": ".py",
   "mimetype": "text/x-python",
   "name": "python",
   "nbconvert_exporter": "python",
   "pygments_lexer": "ipython3",
   "version": "3.8.8"
  }
 },
 "nbformat": 4,
 "nbformat_minor": 5
}
